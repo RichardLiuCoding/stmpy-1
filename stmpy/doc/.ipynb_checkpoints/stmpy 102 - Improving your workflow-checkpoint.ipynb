{
 "cells": [
  {
   "cell_type": "markdown",
   "metadata": {},
   "source": [
    "# stmpy 102 - Improving your workflow\n",
    "Welcome back to python!\n",
    "\n",
    "This tutorial aims to improve your workflow when analyzing data and equips you to contribute code to `stmpy`.  My goal is to enable a better team workflow environment, allowing easy collaboration on analysis projects and new features, by sharing some of the lessons that I've learned the hard way. To that end we'll cover: documenting and sharing your work, writing fast code and PEP 8 style guidelines, feature branching on github.  However, this won't just be a tutorial where I yack about the importance of clear doc stings (so important!)--instead, we'll work together through two projects that instill good and efficient coding practice, and one project that demonstrates how to collaborate on new code.  \n",
    "\n",
    "If you haven't already, you'll need to work through the [first tutorial](https://github.com/harrispirie/stmpy/blob/master/stmpy/doc/Tutorial_PYTHON-101.html), at least to the point where you have jupyter notebooks up and running with `stmpy` installed and ready to go!\n",
    "\n",
    "Once you've done that, go ahead and open a new jupyter notebook: let's get started!"
   ]
  },
  {
   "cell_type": "markdown",
   "metadata": {},
   "source": [
    "### Outline\n",
    "---\n",
    "1. "
   ]
  },
  {
   "cell_type": "markdown",
   "metadata": {},
   "source": [
    "## Analysis Workflow"
   ]
  },
  {
   "cell_type": "markdown",
   "metadata": {},
   "source": [
    "##### Effective communication: Markdown and beyond"
   ]
  },
  {
   "cell_type": "markdown",
   "metadata": {},
   "source": [
    "##### Efficient coding: \"fast code\", not \"code fast\""
   ]
  },
  {
   "cell_type": "markdown",
   "metadata": {},
   "source": [
    "## Collaborating on stmpy\n",
    "\n",
    "Frankly, `stmpy` source code is a complete mess.  I started the package as a place where I could easily store and access common tools for data analysis.  Fast forward 3 years, and the file `stmpy.tools` now contains 1800 lines. But it doesn't have to be so!"
   ]
  },
  {
   "cell_type": "markdown",
   "metadata": {},
   "source": [
    "##### PEP 8 coding practice"
   ]
  },
  {
   "cell_type": "markdown",
   "metadata": {},
   "source": [
    "##### Github workflow: Feature branching"
   ]
  },
  {
   "cell_type": "code",
   "execution_count": null,
   "metadata": {},
   "outputs": [],
   "source": []
  }
 ],
 "metadata": {
  "kernelspec": {
   "display_name": "Python 2",
   "language": "python",
   "name": "python2"
  },
  "language_info": {
   "codemirror_mode": {
    "name": "ipython",
    "version": 2
   },
   "file_extension": ".py",
   "mimetype": "text/x-python",
   "name": "python",
   "nbconvert_exporter": "python",
   "pygments_lexer": "ipython2",
   "version": "2.7.14"
  }
 },
 "nbformat": 4,
 "nbformat_minor": 2
}
